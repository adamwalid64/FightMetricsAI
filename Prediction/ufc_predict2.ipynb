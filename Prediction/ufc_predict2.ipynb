{
 "cells": [
  {
   "cell_type": "markdown",
   "id": "b8a59a23",
   "metadata": {},
   "source": [
    "# UFC PREDICTION MODEL 2.0 (XGBoost) ###\n",
    "\n",
    "Notes:\n",
    "- To start enviroment: venv\\Scripts\\Activate.ps1"
   ]
  },
  {
   "cell_type": "markdown",
   "id": "2aee1854",
   "metadata": {},
   "source": [
    "### Import required libraries"
   ]
  },
  {
   "cell_type": "code",
   "execution_count": 12,
   "id": "df2f65ca",
   "metadata": {},
   "outputs": [],
   "source": [
    "import pandas as pd\n",
    "import numpy as np\n",
    "from sklearn.model_selection import train_test_split\n",
    "from sklearn.metrics import accuracy_score, classification_report, confusion_matrix\n",
    "import xgboost as xgb\n",
    "from xgboost import XGBClassifier\n",
    "from sklearn.metrics import accuracy_score, classification_report, confusion_matrix\n",
    "import joblib # for model extraction"
   ]
  },
  {
   "cell_type": "markdown",
   "id": "8c90ce03",
   "metadata": {},
   "source": [
    "### Import Data"
   ]
  },
  {
   "cell_type": "code",
   "execution_count": 11,
   "id": "d61b9629",
   "metadata": {},
   "outputs": [],
   "source": [
    "df = pd.read_csv(\"../Data/UFC-Fight_historical_data_from_1993_to_2019_1551_40.csv\")\n",
    "\n",
    "# Reverse the dataset to begin with the oldest fight\n",
    "df = df.iloc[::-1].reset_index(drop=True)"
   ]
  },
  {
   "cell_type": "markdown",
   "id": "fd98177e",
   "metadata": {},
   "source": [
    "### Setup Variables"
   ]
  },
  {
   "cell_type": "code",
   "execution_count": null,
   "id": "20b45b60",
   "metadata": {},
   "outputs": [],
   "source": [
    "# Create binary winner label\n",
    "df['winner_binary'] = df['Winner'].map({'Red': 1, 'Blue': 0})\n",
    "\n",
    "pre_fight_cols = [\n",
    "    'SLpM_total', 'SApM_total', 'sig_str_acc_total', 'td_acc_total',\n",
    "    'str_def_total', 'td_def_total', 'sub_avg', 'td_avg',\n",
    "    'age', 'height', 'weight', 'reach', 'wins_total', 'losses_total'\n",
    "]"
   ]
  }
 ],
 "metadata": {
  "kernelspec": {
   "display_name": "venv",
   "language": "python",
   "name": "python3"
  },
  "language_info": {
   "codemirror_mode": {
    "name": "ipython",
    "version": 3
   },
   "file_extension": ".py",
   "mimetype": "text/x-python",
   "name": "python",
   "nbconvert_exporter": "python",
   "pygments_lexer": "ipython3",
   "version": "3.13.5"
  }
 },
 "nbformat": 4,
 "nbformat_minor": 5
}
